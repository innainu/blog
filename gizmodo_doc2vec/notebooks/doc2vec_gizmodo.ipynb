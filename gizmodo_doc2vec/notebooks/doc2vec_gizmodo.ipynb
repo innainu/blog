{
 "cells": [
  {
   "cell_type": "code",
   "execution_count": 1,
   "metadata": {
    "collapsed": false
   },
   "outputs": [
    {
     "name": "stdout",
     "output_type": "stream",
     "text": [
      "Couldn't import dot_parser, loading of dot files will not be possible.\n"
     ]
    }
   ],
   "source": [
    "%matplotlib inline\n",
    "import pickle\n",
    "import scrapy\n",
    "import string\n",
    "from nltk import PunktSentenceTokenizer\n",
    "import re\n",
    "import gensim\n",
    "LabeledSentence = gensim.models.doc2vec.LabeledSentence\n",
    "from gensim.models import Doc2Vec\n",
    "import gensim.models.doc2vec\n",
    "import random\n",
    "import numpy as np\n",
    "from operator import itemgetter\n",
    "\n",
    "from sklearn.manifold import TSNE\n",
    "from sklearn.manifold import MDS\n",
    "from sklearn.decomposition import PCA\n",
    "from sklearn.manifold import Isomap\n",
    "from sklearn.cluster import KMeans\n",
    "\n",
    "import matplotlib.pyplot as plt\n",
    "import json"
   ]
  },
  {
   "cell_type": "markdown",
   "metadata": {},
   "source": [
    "## Pre-process data\n",
    "#### load scraped articles"
   ]
  },
  {
   "cell_type": "code",
   "execution_count": 2,
   "metadata": {
    "collapsed": true
   },
   "outputs": [],
   "source": [
    "data = []\n",
    "with open('../data/gizmodo_items_article.json') as f:\n",
    "    for line in f:\n",
    "        data.append(json.loads(line)) "
   ]
  },
  {
   "cell_type": "code",
   "execution_count": 3,
   "metadata": {
    "collapsed": true
   },
   "outputs": [],
   "source": [
    "#create dict of links\n",
    "\n",
    "url_dict = {}\n",
    "for r in xrange(len(data)):\n",
    "    url_dict[r] = data[r]['url']\n",
    "    \n",
    "with open('dump_urls.json', 'wb') as f:\n",
    "     json.dump(url_dict,f)\n"
   ]
  },
  {
   "cell_type": "code",
   "execution_count": 4,
   "metadata": {
    "collapsed": true
   },
   "outputs": [],
   "source": [
    "#get keywords\n",
    "##take out trailing spaces in keywords and lower\n",
    "for r in xrange(len(data)):\n",
    "    for w in xrange(len(data[r]['keywords'])):\n",
    "        data[r]['keywords'][w] = data[r]['keywords'][w].strip()\n",
    "        data[r]['keywords'][w] = data[r]['keywords'][w].lower()\n",
    "    \n",
    "keywords = []\n",
    "for r in data:\n",
    "    keywords.append(r['keywords'])"
   ]
  },
  {
   "cell_type": "markdown",
   "metadata": {},
   "source": [
    "#### clean up article text"
   ]
  },
  {
   "cell_type": "code",
   "execution_count": 5,
   "metadata": {
    "collapsed": true
   },
   "outputs": [],
   "source": [
    "#combine article text and clean\n",
    "def clean_text(article_text):\n",
    "    article_text = ' '.join(article_text)\n",
    "    article_text = article_text.lower()\n",
    "    article_text = article_text.encode('ascii', errors = 'ignore')\n",
    "    #pad punctuation with spaces\n",
    "    article_text = re.sub(r\"([\\w/'+$\\s-]+|[^\\w/'+$\\s-]+)\\s*\", r\"\\1 \", article_text)\n",
    "    return article_text.split()"
   ]
  },
  {
   "cell_type": "code",
   "execution_count": 6,
   "metadata": {
    "collapsed": true
   },
   "outputs": [],
   "source": [
    "#construct training set for doc2vec. \n",
    "#this returns a list of [article text, <article_label>]\n",
    "#and a dictionary of article labels and the corresponding titles.\n",
    "\n",
    "def construct_training(scraped):\n",
    "    training_set = []\n",
    "    article_dict = {}\n",
    "    article_titles = []\n",
    "    for l in xrange(len(scraped)):\n",
    "        article = scraped[l]['body_text']\n",
    "        article = clean_text(article)\n",
    "        training_set.append(LabeledSentence(article, ['ARTICLE_%s' % l]))\n",
    "        article_dict['ARTICLE_%s' % l] = scraped[l]['title']\n",
    "        article_titles.append(scraped[l]['title'])\n",
    "    return training_set, article_dict, article_titles"
   ]
  },
  {
   "cell_type": "markdown",
   "metadata": {},
   "source": [
    "#### construct training set:\n",
    "The input to Doc2Vec is an iterator of LabeledSentence objects. Each such object represents a single sentence, and consists of two simple lists: a list of words and a list of labels:\n",
    "\n"
   ]
  },
  {
   "cell_type": "code",
   "execution_count": 9,
   "metadata": {
    "collapsed": false
   },
   "outputs": [],
   "source": [
    "#scraped data\n",
    "training, article_dict, article_titles = construct_training(data)"
   ]
  },
  {
   "cell_type": "code",
   "execution_count": 10,
   "metadata": {
    "collapsed": true
   },
   "outputs": [],
   "source": [
    "#fix titles\n",
    "for i in xrange(len(article_titles)):\n",
    "    article_titles[i] = article_titles[i].encode('ascii', errors = 'ignore')\n",
    "    punctuation = string.punctuation.replace('-','').replace('+','').replace('(','').replace(')','').replace(',','')\n",
    "    article_titles[i] = article_titles[i].encode('utf-8').translate(None, punctuation)"
   ]
  },
  {
   "cell_type": "markdown",
   "metadata": {},
   "source": [
    "## doc2vec models\n",
    "\n",
    "From rare-technologies.com/doc2vec-tutorial/ :\n",
    "\"One caveat of the way this algorithm runs is that, since the learning rate decrease over the course of iterating over the data, labels which are only seen in a single LabeledSentence during training will only be trained with a fixed learning rate. This frequently produces less than optimal results. I have obtained better results by iterating over the data several times and either randomizing the order of input sentences, or manually controlling the learning rate over the course of several iterations.\""
   ]
  },
  {
   "cell_type": "code",
   "execution_count": 12,
   "metadata": {
    "collapsed": true
   },
   "outputs": [],
   "source": [
    "#model\n",
    "def doc2vec_model(ALPHA, MIN_ALPHA, TRAINING, SIZE= 300):\n",
    "    model = Doc2Vec(alpha= ALPHA, min_alpha= MIN_ALPHA, workers = 4, size = SIZE)  # use fixed learning rate\n",
    "    model.build_vocab(TRAINING)\n",
    "    for epoch in range(10):\n",
    "        model.train(TRAINING)\n",
    "        model.alpha -= 0.002  # decrease the learning rate\n",
    "        model.min_alpha = model.alpha  # fix the learning rate, no decay\n",
    "    return model\n"
   ]
  },
  {
   "cell_type": "code",
   "execution_count": null,
   "metadata": {
    "collapsed": true
   },
   "outputs": [],
   "source": [
    "#scraped data model\n",
    "ALPHA = 0.025\n",
    "MIN_ALPHA = 0.025\n",
    "TRAINING = training\n",
    "model = doc2vec_model(ALPHA, MIN_ALPHA, TRAINING)\n",
    "model.save('d2v_scraped_articles.p')"
   ]
  },
  {
   "cell_type": "code",
   "execution_count": 11,
   "metadata": {
    "collapsed": true
   },
   "outputs": [],
   "source": [
    "#scraped data model\n",
    "model = Doc2Vec.load('d2v_scraped_articles.p')"
   ]
  },
  {
   "cell_type": "code",
   "execution_count": null,
   "metadata": {
    "collapsed": true
   },
   "outputs": [],
   "source": [
    "#tried 500 dim vector model to improve results but this didn't help.\n",
    "TRAINING = training\n",
    "ALPHA = 0.025\n",
    "MIN_ALPHA = 0.025\n",
    "model_2d_500dim = doc2vec_model(ALPHA, MIN_ALPHA, TRAINING, SIZE = 500)\n",
    "model_2d_500dim.save('d2v_scraped_articles_500dim.p')"
   ]
  },
  {
   "cell_type": "markdown",
   "metadata": {},
   "source": [
    "#### look at results:"
   ]
  },
  {
   "cell_type": "code",
   "execution_count": 13,
   "metadata": {
    "collapsed": true
   },
   "outputs": [],
   "source": [
    "#takes in e.g. sims[0][0]\n",
    "#converts to digit to index training_set\n",
    "def string_to_digit(string):\n",
    "    digit = []\n",
    "    for r in string:\n",
    "        if r.isdigit():\n",
    "            digit.append(r)\n",
    "    return int(''.join(digit))"
   ]
  },
  {
   "cell_type": "code",
   "execution_count": 14,
   "metadata": {
    "collapsed": true
   },
   "outputs": [],
   "source": [
    "#print some stats about the most similar, median, and least similar articles for one article\n",
    "def some_stats(model, article_dict, training_set):\n",
    "    doc_id = np.random.randint(model.docvecs.count)  # pick random doc, re-run cell for more examples\n",
    "    sims = model.docvecs.most_similar(doc_id, topn=model.docvecs.count)\n",
    "    print(u'TARGET (%d): «%s»\\n' % (doc_id, ' '.join(training_set[doc_id].words)))\n",
    "    print (\"TARGET\",article_titles[doc_id])\n",
    "    print(u'SIMILAR/DISSIMILAR DOCS PER MODEL %s:\\n' % model)\n",
    "    for label, index in [('MOST', 0), ('MEDIAN', len(sims)//2), ('LEAST', len(sims) - 1)]:\n",
    "        print label\n",
    "        print index\n",
    "        print(u'%s %s: «%s»\\n' % (label, sims[index], ' '.join(training_set[string_to_digit(sims[index][0])].words)))\n",
    "        print (\"title\",article_dict[sims[index][0]])"
   ]
  },
  {
   "cell_type": "code",
   "execution_count": 15,
   "metadata": {
    "collapsed": false
   },
   "outputs": [
    {
     "name": "stdout",
     "output_type": "stream",
     "text": [
      "TARGET (1374): «a team of researchers has happened upon several hundred footprints left by middle jurassic dinosaurs at a coastal lagoon in scotland . the footprints measure around 70 centimetres across , which is larger than those that would have been left by t . rex , and date back around 170 million years . in fact , the team that discovered the prints reckon they were left by early sauropods large plant eating dinosaurs that weighed over 20 tonnes and could be as tall as a 7-storey building . while other large areas of dinosaur footprints have been found in the past , this is the largest to be identified in scotland and should help researchers better understand how early sauropods moved . stephen brusatte , one of the researchers , explains to new scientist that these dinosaurs werent swimmers but they would have been moving around knee-deep in this brackish lagoon . amusingly , brusatte stumbled across the prints by accident , when returning to his car after an unsuccessful day of fossil hunting . [ scottish journal of geology via new scientist ] images by jon hoad and steve brusatte»\n",
      "\n",
      "('TARGET', 'Hundreds of Dinosaur Footprints Found in a Scottish Lagoon')\n",
      "SIMILAR/DISSIMILAR DOCS PER MODEL Doc2Vec(dm/s,d300,hs,w8,mc5,t4):\n",
      "\n",
      "MOST\n",
      "0\n",
      "MOST ('ARTICLE_4805', 0.3621085286140442): «the apollo moon missions ended over 40 years ago , but incredibly , scientists are still learning from them . case in point : a team of researchers has unearthed 210 previously unknown moonquakes in a slew of seismic data collected by apollo 16 . the moon is quakin all over , with causal agents ranging from meteorite impacts to earths gravitational pull . all told , scientists have documented over 13 , 000 tremors on earths nearest neighbor since the late 1960s . many of these quakes were painstakingly identified by human eyeballs , but brigitte knapmeyer-endrun of the max planck institute had a hunch that computers could do better . so she developed a program that learns to identify moonquakes in seismic data , using a process similar to speech recognition algorithms . running the program through data from a seismometer left on the moon by apollo 16 in 1972 , knapmeyer-endrun and her colleagues were able to root out 210 previously unnoticed moonquakes . the researchers are hopeful that a similar approach could help nasa sift through seismic data collected by the insight lander , which will head mars in 2016 to study the red planets deep interior . [ new scientist ] follow the author @ themadstone»\n",
      "\n",
      "('title', u'Over 200 New \"Moonquakes\" Discovered in Apollo 16 Data')\n",
      "MEDIAN\n",
      "3999\n",
      "MEDIAN ('ARTICLE_5683', 0.02867937460541725): «big tablets . so hot right now . much like the big smartphone revolution from 2011 , tablets seem to be undergoing something similar . apples got its own in the works which well most likely see in a few weeks . but not to be outdone , samsungs planing to go bigger . according to the reliable rumor site sammobile , the korean company known for pushing the envelope with huge gadgets is working on an 18 . 4-inch tablet . thats giant . but the spec sheet suggests that its most likely not for you . for one , the report says samsung is ditching its popular super amoled display technology , the amazing tech in its smartphones and upcoming galaxy tab s2 . instead it will supposedly use a more run-of-the-mill tft lcd display at full hd ( 1920x1080 ) resolution . lets think about that for a second . at 18 . 4 inches , thats not going to be a great resolution with 120 pixels-per-inch . the tab s2 is almost double that number . with 1 . 6 ghz processor , 32 gb internal storage , and microsd slot ( up to 128gb ), the tab could be a good fit for schools where students can work together on just one big device . aside from apples own thoughts on mega huge tabs , giant tablets this size are nothing new . panasonic showcased a windows 8 version way back at ces 2013 , and other companies like lenovo also have made a few big tabs/portable desktops , but at pretty steep prices . samsung may be trying to deliver something big at a small price . tablets have become a hard sell because , for the most part , tablets are forever . but will going bigger sell ? looks like well find out . [ sammobile ]»\n",
      "\n",
      "('title', u'Samsung Might Be Making a Huge, Absurd 18.4-inch Android Tablet')\n",
      "LEAST\n",
      "7998\n",
      "LEAST ('ARTICLE_4109', -0.2634223699569702): «apple music launched with a three-month free trial earlier this summer , a trial millions of people signed up for . well , the leaves are changing , a brisk chill is in the air , and its the ideal time to disable the auto-renew on your trial subscription . with apples trial subscription , youve got three months of free listening from when the trial was activated . after that , its $10 a month . if you signed up for the trial back when apple music launched , it will be ending on september 30th . so , if youre jumping ship back to spotify or pandora or whoever else ( youll be in good company ), double-check that apples not going to keep billing you . open the music app , go to your profile page ( the head icon in the top left ), then view apple id - > manage ( subscriptions ) - > your membership , and turn the automatic renewal toggle off . image credit : adam clark estes»\n",
      "\n",
      "('title', u'Remember To Cancel Your Apple Music Free Trial')\n"
     ]
    }
   ],
   "source": [
    "some_stats(model, article_dict, training)"
   ]
  },
  {
   "cell_type": "markdown",
   "metadata": {},
   "source": [
    "## Dimensionality Reduction\n",
    "Tried more than just tSNE, but not shown in this notebook. tSNE method shown worked best"
   ]
  },
  {
   "cell_type": "code",
   "execution_count": 16,
   "metadata": {
    "collapsed": true
   },
   "outputs": [],
   "source": [
    "#function to get the closest neighbors for an article\n",
    "from sklearn.neighbors import NearestNeighbors\n",
    "def return_closest(article_idx, articles, article_titles, model, n_neighbors = 3):\n",
    "    neigh = NearestNeighbors(n_neighbors = n_neighbors)\n",
    "    neigh.fit(articles)\n",
    "#     result = neigh.kneighbors(articles[article_idx])\n",
    "    for r in np.asarray(neigh.kneighbors(articles[article_idx])[1][0]):\n",
    "        print (r, article_titles[r], model.docvecs.similarity(article_idx, r))\n",
    "    return neigh.kneighbors(articles[article_idx])\n",
    "\n",
    "#this function gets the original closest neighbors for an article\n",
    "def orig_closest(article_idx, model, top):\n",
    "    sims = model.docvecs.most_similar(article_idx, topn=top)\n",
    "    for x in sims:\n",
    "        print article_dict[x[0]]\n",
    "    return sims"
   ]
  },
  {
   "cell_type": "markdown",
   "metadata": {},
   "source": [
    "### 2D"
   ]
  },
  {
   "cell_type": "code",
   "execution_count": null,
   "metadata": {
    "collapsed": true
   },
   "outputs": [],
   "source": [
    "#init with pca method and do exact method\n",
    "tsne_model = TSNE(n_components=2, random_state=0, verbose = 1, init= \"pca\", method = \"exact\")\n",
    "tsne_articles_2D = tsne_model_verb2.fit_transform(model.docvecs)"
   ]
  },
  {
   "cell_type": "code",
   "execution_count": 17,
   "metadata": {
    "collapsed": true
   },
   "outputs": [],
   "source": [
    "tsne_articles_2D = pickle.load(open(\"all_2d_exact_tsne.p\", \"rb\"))"
   ]
  },
  {
   "cell_type": "markdown",
   "metadata": {},
   "source": [
    "### 3D"
   ]
  },
  {
   "cell_type": "code",
   "execution_count": null,
   "metadata": {
    "collapsed": true
   },
   "outputs": [],
   "source": [
    "tsne_model_exact_3d = TSNE(n_components=3, random_state=0, verbose = 2, init= \"pca\", method = \"exact\")\n",
    "tsne_articles_exact_3d = tsne_model_exact_3d.fit_transform(model.docvecs)"
   ]
  },
  {
   "cell_type": "code",
   "execution_count": 18,
   "metadata": {
    "collapsed": false
   },
   "outputs": [],
   "source": [
    "tsne_articles_3D = pickle.load( open(\"all_3d_exact_tsne.p\", \"rb\")) "
   ]
  },
  {
   "cell_type": "markdown",
   "metadata": {},
   "source": [
    "## Take the \"top\" articles\n",
    "### go through each article and find its most similar article with similarity score."
   ]
  },
  {
   "cell_type": "markdown",
   "metadata": {},
   "source": [
    "### distribution of cosine similarities"
   ]
  },
  {
   "cell_type": "code",
   "execution_count": 67,
   "metadata": {
    "collapsed": false
   },
   "outputs": [],
   "source": [
    "#for each article, find the cosine similarity to each other article\n",
    "cosine_similarities = []\n",
    "for r in xrange(8000):\n",
    "    for t in xrange(r+1,8000):\n",
    "        cosine_similarities.append(model.docvecs.similarity(r,t))"
   ]
  },
  {
   "cell_type": "code",
   "execution_count": 72,
   "metadata": {
    "collapsed": true
   },
   "outputs": [],
   "source": [
    "l = [1,2,2,3]"
   ]
  },
  {
   "cell_type": "code",
   "execution_count": 75,
   "metadata": {
    "collapsed": false
   },
   "outputs": [
    {
     "data": {
      "text/plain": [
       "-0.36747929014079161"
      ]
     },
     "execution_count": 75,
     "metadata": {},
     "output_type": "execute_result"
    }
   ],
   "source": [
    "min(cosine_similarities)"
   ]
  },
  {
   "cell_type": "code",
   "execution_count": 87,
   "metadata": {
    "collapsed": false
   },
   "outputs": [
    {
     "data": {
      "image/png": "[encoded data removed]",
      "text/plain": [
       "<matplotlib.figure.Figure at 0x1a811bc10>"
      ]
     },
     "metadata": {},
     "output_type": "display_data"
    }
   ],
   "source": [
    "plt.hist(cosine_similarities, 50, facecolor='green', alpha=0.5)\n",
    "plt.title('Distribution of Cosine Similarities')\n",
    "plt.ylabel('Frequency')\n",
    "plt.xlabel('Cosine Similarity')\n",
    "plt.savefig('similarities_hist.png')"
   ]
  },
  {
   "cell_type": "code",
   "execution_count": 19,
   "metadata": {
    "collapsed": false
   },
   "outputs": [],
   "source": [
    "#store each article with its highest matching pair and the score\n",
    "top_scores = []\n",
    "for art_idx in xrange(len(model.docvecs)):\n",
    "    top = model.docvecs.most_similar(art_idx, topn = 1)\n",
    "    top_scores.append((art_idx, string_to_digit(top[0][0]), top[0][1]))"
   ]
  },
  {
   "cell_type": "code",
   "execution_count": 20,
   "metadata": {
    "collapsed": true
   },
   "outputs": [],
   "source": [
    "# for a,b,c in sorted(top_scores, key = itemgetter(2), reverse = True):\n",
    "#     print a,b,c\n",
    "#     print article_titles[a]\n",
    "#     print article_titles[b]"
   ]
  },
  {
   "cell_type": "code",
   "execution_count": 20,
   "metadata": {
    "collapsed": false
   },
   "outputs": [],
   "source": [
    "# first_idx has the top indices\n",
    "top_sorted = sorted(top_scores, key = itemgetter(2), reverse = True)\n",
    "first = top_sorted[:1000]\n",
    "first_idx = []\n",
    "for k,v,w in first:\n",
    "    first_idx.append(k)\n",
    "    "
   ]
  },
  {
   "cell_type": "markdown",
   "metadata": {},
   "source": [
    "### Cluster top 1k articles"
   ]
  },
  {
   "cell_type": "markdown",
   "metadata": {},
   "source": [
    "### 2D"
   ]
  },
  {
   "cell_type": "code",
   "execution_count": 21,
   "metadata": {
    "collapsed": false
   },
   "outputs": [],
   "source": [
    "kmeans = KMeans(5, n_jobs=-1)\n",
    "top_cluster_results = kmeans.fit_predict(tsne_articles_2D[first_idx])"
   ]
  },
  {
   "cell_type": "code",
   "execution_count": 37,
   "metadata": {
    "collapsed": false
   },
   "outputs": [
    {
     "data": {
      "text/plain": [
       "1000"
      ]
     },
     "execution_count": 37,
     "metadata": {},
     "output_type": "execute_result"
    }
   ],
   "source": [
    "len(top_cluster_results)"
   ]
  },
  {
   "cell_type": "code",
   "execution_count": 22,
   "metadata": {
    "collapsed": false
   },
   "outputs": [
    {
     "data": {
      "text/plain": [
       "<matplotlib.collections.PathCollection at 0x1843fd810>"
      ]
     },
     "execution_count": 22,
     "metadata": {},
     "output_type": "execute_result"
    },
    {
     "name": "stderr",
     "output_type": "stream",
     "text": [
      "/Users/ishteinbuk/anaconda/envs/ml/lib/python2.7/site-packages/matplotlib/collections.py:590: FutureWarning: elementwise comparison failed; returning scalar instead, but in the future will perform elementwise comparison\n",
      "  if self._edgecolors == str('face'):\n"
     ]
    },
    {
     "data": {
      "image/png": "[encoded data removed]",
      "text/plain": [
       "<matplotlib.figure.Figure at 0x18430a810>"
      ]
     },
     "metadata": {},
     "output_type": "display_data"
    }
   ],
   "source": [
    "plt.scatter([x[0] for x in tsne_articles_2D[first_idx]], [x[1] for x in tsne_articles_2D[first_idx]], c=top_cluster_results)"
   ]
  },
  {
   "cell_type": "code",
   "execution_count": 23,
   "metadata": {
    "collapsed": true
   },
   "outputs": [],
   "source": [
    "# get dict of indices of results\n",
    "count = 0\n",
    "five_clusters = {}\n",
    "for clust in xrange(5):\n",
    "    five_clusters[clust] = []\n",
    "for r in top_cluster_results:\n",
    "    five_clusters[r].append(count)\n",
    "    count += 1\n",
    "        "
   ]
  },
  {
   "cell_type": "code",
   "execution_count": 24,
   "metadata": {
    "collapsed": true
   },
   "outputs": [],
   "source": [
    "def get_clusters(cluster, keywords_1000):\n",
    "    return_cluster= {}\n",
    "    for idx in cluster:\n",
    "        for keyword in keywords_1000[idx]:\n",
    "            if keyword in return_cluster:\n",
    "                return_cluster[keyword] += 1\n",
    "            else:\n",
    "                return_cluster[keyword] = 1\n",
    "    return return_cluster\n",
    "\n",
    "def order_cluster(cluster):\n",
    "    temp = []\n",
    "    for k, v in sorted(cluster.items(), key = itemgetter(1), reverse = True):\n",
    "        temp.append((k,v))\n",
    "    return temp[:10]\n",
    "\n",
    "keywords_1000 = np.asarray(keywords)[first_idx]"
   ]
  },
  {
   "cell_type": "code",
   "execution_count": 25,
   "metadata": {
    "collapsed": false
   },
   "outputs": [],
   "source": [
    "cluster_0 = get_clusters(five_clusters[0], keywords_1000)\n",
    "cluster_1 = get_clusters(five_clusters[1], keywords_1000)\n",
    "cluster_2 = get_clusters(five_clusters[2], keywords_1000)\n",
    "cluster_3 = get_clusters(five_clusters[3], keywords_1000)\n",
    "cluster_4 = get_clusters(five_clusters[4], keywords_1000)\n"
   ]
  },
  {
   "cell_type": "code",
   "execution_count": 53,
   "metadata": {
    "collapsed": false
   },
   "outputs": [
    {
     "data": {
      "text/plain": [
       "4"
      ]
     },
     "execution_count": 53,
     "metadata": {},
     "output_type": "execute_result"
    }
   ],
   "source": [
    "top_cluster_results[806]"
   ]
  },
  {
   "cell_type": "code",
   "execution_count": 41,
   "metadata": {
    "collapsed": false
   },
   "outputs": [
    {
     "name": "stdout",
     "output_type": "stream",
     "text": [
      "(0, [(u'gizmodo', 201), (u'space', 103), (u'science', 67), (u'astronomy', 49), (u'nasa', 47), (u'earth &amp; space', 45), (u'new horizons', 33), (u'pluto', 31), (u'environment', 24), (u'astrobiology', 22)])\n",
      "(1, [(u'gizmodo', 105), (u'io9', 81), (u'television', 57), (u'tv recap', 40), (u'star wars', 34), (u'movies', 34), (u'editor&#39;s picks', 33), (u'true crime', 25), (u'star wars: the force awakens', 25), (u'toybox', 17)])\n",
      "(2, [(u'gizmodo', 177), (u'reviews', 49), (u'photography', 44), (u'android', 39), (u'smartphones', 35), (u'shootingchallenge', 34), (u'review', 31), (u'indefinitely wild', 29), (u'apple', 20), (u'samsung', 20)])\n",
      "(3, [(u'field guide', 72), (u'gizmodo', 56), (u'android', 37), (u'apps', 27), (u'ios', 22), (u'google', 20), (u'tips', 19), (u'reviews', 18), (u'windows 10', 17), (u'apple', 15)])\n",
      "(4, [(u'gizmodo', 117), (u'science', 47), (u'true crime', 30), (u'medicine', 20), (u'murder', 20), (u'biology', 14), (u'health', 10), (u'io9', 9), (u'animals', 8), (u'indefinitely wild', 8)])\n"
     ]
    }
   ],
   "source": [
    "print (0,order_cluster(cluster_0))\n",
    "print (1,order_cluster(cluster_1))\n",
    "print (2,order_cluster(cluster_2))\n",
    "print (3,order_cluster(cluster_3))\n",
    "print (4,order_cluster(cluster_4))"
   ]
  },
  {
   "cell_type": "markdown",
   "metadata": {},
   "source": [
    "### 3D"
   ]
  },
  {
   "cell_type": "code",
   "execution_count": 27,
   "metadata": {
    "collapsed": false
   },
   "outputs": [],
   "source": [
    "kmeans = KMeans(5, n_jobs=-1)\n",
    "top_cluster_results_3D = kmeans.fit_predict(tsne_articles_3D[first_idx])"
   ]
  },
  {
   "cell_type": "code",
   "execution_count": 32,
   "metadata": {
    "collapsed": true
   },
   "outputs": [],
   "source": [
    "tsne_articles_3D_1000 = tsne_articles_3D[first_idx]\n",
    "tsne_articles_3D_1000_x = [x[0] for x in tsne_articles_3D_1000]\n",
    "tsne_articles_3D_1000_y = [x[1] for x in tsne_articles_3D_1000]\n",
    "tsne_articles_3D_1000_z = [x[2] for x in tsne_articles_3D_1000]"
   ]
  },
  {
   "cell_type": "code",
   "execution_count": 33,
   "metadata": {
    "collapsed": false
   },
   "outputs": [
    {
     "data": {
      "text/plain": [
       "<mpl_toolkits.mplot3d.art3d.Path3DCollection at 0x16b38d150>"
      ]
     },
     "execution_count": 33,
     "metadata": {},
     "output_type": "execute_result"
    },
    {
     "data": {
      "image/png": "[encoded data removed]",
      "text/plain": [
       "<matplotlib.figure.Figure at 0x16b04a510>"
      ]
     },
     "metadata": {},
     "output_type": "display_data"
    }
   ],
   "source": [
    "from mpl_toolkits.mplot3d import Axes3D\n",
    "fig = plt.figure()\n",
    "ax = fig.add_subplot(111, projection='3d')\n",
    "ax.scatter(tsne_articles_3D_1000_x, tsne_articles_3D_1000_y, tsne_articles_3D_1000_z, c = top_cluster_results_3D)"
   ]
  },
  {
   "cell_type": "code",
   "execution_count": 34,
   "metadata": {
    "collapsed": true
   },
   "outputs": [],
   "source": [
    "count = 0\n",
    "five_clusters_3D = {}\n",
    "for clust in xrange(5):\n",
    "    five_clusters_3D[clust] = []\n",
    "for r in top_cluster_results_3D:\n",
    "    five_clusters_3D[r].append(count)\n",
    "    count += 1"
   ]
  },
  {
   "cell_type": "code",
   "execution_count": 35,
   "metadata": {
    "collapsed": true
   },
   "outputs": [],
   "source": [
    "cluster_0_3D = get_clusters(five_clusters_3D[0], keywords_1000)\n",
    "cluster_1_3D = get_clusters(five_clusters_3D[1], keywords_1000)\n",
    "cluster_2_3D = get_clusters(five_clusters_3D[2], keywords_1000)\n",
    "cluster_3_3D = get_clusters(five_clusters_3D[3], keywords_1000)\n",
    "cluster_4_3D = get_clusters(five_clusters_3D[4], keywords_1000)"
   ]
  },
  {
   "cell_type": "code",
   "execution_count": 48,
   "metadata": {
    "collapsed": false
   },
   "outputs": [
    {
     "data": {
      "text/plain": [
       "3"
      ]
     },
     "execution_count": 48,
     "metadata": {},
     "output_type": "execute_result"
    }
   ],
   "source": [
    "top_cluster_results_3D[140]"
   ]
  },
  {
   "cell_type": "code",
   "execution_count": 42,
   "metadata": {
    "collapsed": false
   },
   "outputs": [
    {
     "name": "stdout",
     "output_type": "stream",
     "text": [
      "(0, [(u'gizmodo', 96), (u'io9', 87), (u'television', 57), (u'true crime', 55), (u'tv recap', 40), (u'editor&#39;s picks', 36), (u'star wars', 31), (u'movies', 31), (u'star wars: the force awakens', 23), (u'murder', 21)])\n",
      "(1, [(u'gizmodo', 159), (u'science', 57), (u'medicine', 24), (u'biology', 16), (u'urbanism', 15), (u'cities', 15), (u'environment', 12), (u'transportation', 12), (u'health', 11), (u'future earth', 11)])\n",
      "(2, [(u'gizmodo', 144), (u'reviews', 45), (u'photography', 43), (u'android', 38), (u'shootingchallenge', 33), (u'smartphones', 33), (u'indefinitely wild', 29), (u'review', 27), (u'cameras', 16), (u'apple', 15)])\n",
      "(3, [(u'gizmodo', 174), (u'space', 104), (u'science', 62), (u'astronomy', 49), (u'nasa', 48), (u'earth &amp; space', 46), (u'new horizons', 33), (u'pluto', 31), (u'image cache', 24), (u'astrobiology', 22)])\n",
      "(4, [(u'gizmodo', 83), (u'field guide', 72), (u'android', 38), (u'apps', 28), (u'reviews', 22), (u'ios', 22), (u'windows 10', 20), (u'google', 20), (u'tips', 19), (u'apple', 18)])\n"
     ]
    }
   ],
   "source": [
    "print (0 ,order_cluster(cluster_0_3D))\n",
    "print ( 1,order_cluster(cluster_1_3D))\n",
    "print ( 2,order_cluster(cluster_2_3D))\n",
    "print ( 3,order_cluster(cluster_3_3D))\n",
    "print ( 4,order_cluster(cluster_4_3D))"
   ]
  },
  {
   "cell_type": "code",
   "execution_count": null,
   "metadata": {
    "collapsed": true
   },
   "outputs": [],
   "source": []
  },
  {
   "cell_type": "code",
   "execution_count": null,
   "metadata": {
    "collapsed": true
   },
   "outputs": [],
   "source": []
  },
  {
   "cell_type": "code",
   "execution_count": null,
   "metadata": {
    "collapsed": true
   },
   "outputs": [],
   "source": []
  }
 ],
 "metadata": {
  "kernelspec": {
   "display_name": "Python 2",
   "language": "python",
   "name": "python2"
  },
  "language_info": {
   "codemirror_mode": {
    "name": "ipython",
    "version": 2
   },
   "file_extension": ".py",
   "mimetype": "text/x-python",
   "name": "python",
   "nbconvert_exporter": "python",
   "pygments_lexer": "ipython2",
   "version": "2.7.11"
  }
 },
 "nbformat": 4,
 "nbformat_minor": 0
}
